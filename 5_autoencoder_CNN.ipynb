{
 "cells": [
  {
   "cell_type": "code",
   "execution_count": 1,
   "id": "8775e20d",
   "metadata": {},
   "outputs": [],
   "source": [
    "# librerie\n",
    "import os\n",
    "import torch\n",
    "import numpy as np\n",
    "from torchvision import transforms, datasets\n",
    "from torch.utils.data import DataLoader, random_split, Subset\n",
    "from sklearn.decomposition import PCA\n",
    "import matplotlib.pyplot as plt\n",
    "import random\n",
    "import collections\n",
    "from tqdm import tqdm\n",
    "import joblib \n",
    "import torch\n",
    "import torch.nn as nn\n",
    "import torch.optim as optim\n",
    "from torch.utils.data import DataLoader, TensorDataset\n",
    "import torch.nn as nn\n",
    "from torch.utils.data import TensorDataset, DataLoader\n",
    "from torchvision.utils import make_grid\n",
    "from datetime import datetime"
   ]
  },
  {
   "cell_type": "code",
   "execution_count": 2,
   "id": "5f703db4",
   "metadata": {},
   "outputs": [
    {
     "data": {
      "text/plain": [
       "<torch._C.Generator at 0x1e295efe110>"
      ]
     },
     "execution_count": 2,
     "metadata": {},
     "output_type": "execute_result"
    }
   ],
   "source": [
    "# riproducibilità\n",
    "random.seed(42)\n",
    "np.random.seed(42)\n",
    "torch.manual_seed(42)"
   ]
  },
  {
   "cell_type": "code",
   "execution_count": 3,
   "id": "5a2734ca",
   "metadata": {},
   "outputs": [],
   "source": [
    "# parametri principali\n",
    "image_size = 224          # dimensione immagine (224x224)\n",
    "batch_size = 128          # batch size per il DataLoader\n",
    "encoding_dim = 256        # dimensione dello spazio latente dell'autoencoder\n",
    "epochs = 30               # numero di epoche per l'allenamento\n",
    "lr = 1e-3                 # learning rate per ottimizzatore\n",
    "noise_std = 0.05          # rumore usato in fase di data augmentation\n",
    "train_ratio, val_ratio = 0.7, 0.15  # percentuali per suddividere in train/val/test\n",
    "device = torch.device(\"cuda\" if torch.cuda.is_available() else \"cpu\")  # utilizzo GPU se disponibile PROVA SENZA\n",
    "\n",
    "pretty_labels = ['adenocarcinoma', 'beigno', 'carcinoma squamoso']  # nome delle classi più leggibili"
   ]
  },
  {
   "cell_type": "code",
   "execution_count": 4,
   "id": "6c394a50",
   "metadata": {},
   "outputs": [],
   "source": [
    "# percorsi utili\n",
    "base_dir = os.getcwd()  # percorso base\n",
    "data_dir = os.path.join(base_dir, 'data_histo') # percorso dataset\n",
    "# percorso per salvare output\n",
    "output_folder = os.path.join(base_dir, \"ae_outputs\")\n",
    "os.makedirs(output_folder, exist_ok=True) # crea se non esiste\n",
    "save_path = os.path.join(output_folder, f'ae_data_{encoding_dim}_{noise_std}.pth')\n",
    "encoder_model_path = os.path.join(output_folder, f'ae_encoder_CNN_{encoding_dim}_{noise_std}.pt')"
   ]
  },
  {
   "cell_type": "code",
   "execution_count": 5,
   "id": "82250344",
   "metadata": {},
   "outputs": [],
   "source": [
    "# trasformazioni base (usate per val/test)\n",
    "transform_base = transforms.Compose([\n",
    "    transforms.Resize((image_size, image_size)), # ridimensiona le immagini\n",
    "    transforms.ToTensor() # converte in tensore\n",
    "])"
   ]
  },
  {
   "cell_type": "code",
   "execution_count": 6,
   "id": "9ef24bb0",
   "metadata": {},
   "outputs": [],
   "source": [
    "# caricamento e split\n",
    "full_dataset = datasets.ImageFolder(root=data_dir, transform=transform_base)  # carica tutte le immagini con le etichette\n",
    "total_size = len(full_dataset)                                           # numero totale di immagini\n",
    "train_size = int(train_ratio * total_size)\n",
    "val_size = int(val_ratio * total_size)\n",
    "test_size = total_size - train_size - val_size                           # il resto va al test set\n",
    "\n",
    "# suddivisione casuale ma riproducibile\n",
    "train_indices, val_indices, test_indices = random_split(\n",
    "    list(range(total_size)), [train_size, val_size, test_size],\n",
    "    generator=torch.Generator().manual_seed(42)\n",
    ")"
   ]
  },
  {
   "cell_type": "code",
   "execution_count": 7,
   "id": "5f0c5e67",
   "metadata": {},
   "outputs": [],
   "source": [
    "train_subset = Subset(full_dataset, train_indices)\n",
    "val_subset = Subset(full_dataset, val_indices)\n",
    "test_subset = Subset(full_dataset, test_indices)\n",
    "\n",
    "val_loader = DataLoader(val_subset, batch_size=batch_size, shuffle=False)\n",
    "test_loader = DataLoader(test_subset, batch_size=batch_size, shuffle=False)"
   ]
  },
  {
   "cell_type": "code",
   "execution_count": 8,
   "id": "add11305",
   "metadata": {},
   "outputs": [],
   "source": [
    "# caricamento dati augmentati (vedi file augmented_data.ipynb)\n",
    "aug_data = torch.load(os.path.join(\"shared_augmented_data\", f\"augmented_train_data_{noise_std}.pt\"))\n",
    "train_imgs = aug_data['images']\n",
    "train_labels = aug_data['labels']\n",
    "\n",
    "# flatten immagini in vettori 1D\n",
    "train_data = train_imgs.view(train_imgs.size(0), -1).numpy()"
   ]
  },
  {
   "cell_type": "code",
   "execution_count": 9,
   "id": "f55f9ecb",
   "metadata": {},
   "outputs": [
    {
     "name": "stderr",
     "output_type": "stream",
     "text": [
      "Estrazione dati: 100%|██████████| 18/18 [00:52<00:00,  2.92s/it]\n",
      "Estrazione dati: 100%|██████████| 18/18 [00:51<00:00,  2.88s/it]\n"
     ]
    }
   ],
   "source": [
    "# estrazione e flattening di val e test\n",
    "def extract_data(loader):\n",
    "    data, labels = [], []\n",
    "    for images, targets in tqdm(loader, desc=\"Estrazione dati\"):\n",
    "        flat = images.view(images.size(0), -1)\n",
    "        data.append(flat)\n",
    "        labels.append(targets)\n",
    "    data = torch.cat(data, dim=0).numpy()\n",
    "    labels = torch.cat(labels).numpy()\n",
    "    return data, labels\n",
    "\n",
    "val_data, val_labels = extract_data(val_loader)\n",
    "test_data, test_labels = extract_data(test_loader)"
   ]
  },
  {
   "cell_type": "code",
   "execution_count": 10,
   "id": "d6fb5154",
   "metadata": {},
   "outputs": [],
   "source": [
    "# normalizzazione (Z-SCORE)\n",
    "# la normalizzazione viene effettuata utilizzando la media e la deviazione standard \n",
    "# calcolate solo sul set di training. Questo è fondamentale per evitare data leakage: \n",
    "# usare informazioni statistiche dai dati di validazione o test potrebbe introdurre bias\n",
    "# e compromettere la validità della valutazione del modello.\n",
    "mean = train_data.mean(axis=0)\n",
    "std = train_data.std(axis=0) + 1e-8  # evita divisione per zero\n",
    "\n",
    "def zscore(data):\n",
    "    return (data - mean) / std\n",
    "\n",
    "train_data = zscore(train_data)\n",
    "val_data = zscore(val_data)\n",
    "test_data = zscore(test_data)"
   ]
  },
  {
   "cell_type": "code",
   "execution_count": 11,
   "id": "b88d2754",
   "metadata": {},
   "outputs": [],
   "source": [
    "# autoencoder semplice per immagini 224x224 flattenate\n",
    "input_dim = image_size * image_size * 3"
   ]
  },
  {
   "cell_type": "code",
   "execution_count": 12,
   "id": "75934b6e",
   "metadata": {},
   "outputs": [],
   "source": [
    "# definizione autoencoder convoluzionale\n",
    "class ConvAutoencoder(nn.Module):\n",
    "    def __init__(self, encoding_dim):\n",
    "        super().__init__()\n",
    "        self.encoder_conv = nn.Sequential(\n",
    "            nn.Conv2d(3, 16, kernel_size=3, stride=2, padding=1),\n",
    "            nn.ReLU(),\n",
    "            nn.Conv2d(16, 32, kernel_size=3, stride=2, padding=1),\n",
    "            nn.ReLU(),\n",
    "            nn.Conv2d(32, 64, kernel_size=3, stride=2, padding=1),\n",
    "            nn.ReLU()\n",
    "        )\n",
    "        self.flatten = nn.Flatten()\n",
    "        self.fc_enc = nn.Linear(64 * 28 * 28, encoding_dim)\n",
    "        self.fc_dec = nn.Linear(encoding_dim, 64 * 28 * 28)\n",
    "        self.decoder_conv = nn.Sequential(\n",
    "            nn.ConvTranspose2d(64, 32, kernel_size=3, stride=2, padding=1, output_padding=1),\n",
    "            nn.ReLU(),\n",
    "            nn.ConvTranspose2d(32, 16, kernel_size=3, stride=2, padding=1, output_padding=1),\n",
    "            nn.ReLU(),\n",
    "            nn.ConvTranspose2d(16, 3, kernel_size=3, stride=2, padding=1, output_padding=1),\n",
    "            nn.Sigmoid()\n",
    "        )\n",
    "\n",
    "    def forward(self, x):\n",
    "        z = self.encoder_conv(x)\n",
    "        z_flat = self.flatten(z)\n",
    "        z_code = self.fc_enc(z_flat)\n",
    "        z_up = self.fc_dec(z_code).view(-1, 64, 28, 28)\n",
    "        x_recon = self.decoder_conv(z_up)\n",
    "        return x_recon\n",
    "\n",
    "    def encode_only(self, x):\n",
    "        with torch.no_grad():\n",
    "            z = self.encoder_conv(x)\n",
    "            z_flat = self.flatten(z)\n",
    "            z_code = self.fc_enc(z_flat)\n",
    "        return z_code\n"
   ]
  },
  {
   "cell_type": "code",
   "execution_count": 13,
   "id": "c58ee26c",
   "metadata": {},
   "outputs": [],
   "source": [
    "# costruzione modello\n",
    "model = ConvAutoencoder(encoding_dim).to(device)\n",
    "optimizer = torch.optim.Adam(model.parameters(), lr=lr)\n",
    "criterion = nn.MSELoss()"
   ]
  },
  {
   "cell_type": "code",
   "execution_count": 14,
   "id": "04193c34",
   "metadata": {},
   "outputs": [],
   "source": [
    "# dataLoader per training AE\n",
    "train_loader_ae = DataLoader(TensorDataset(train_imgs, train_labels), batch_size=batch_size, shuffle=True)"
   ]
  },
  {
   "cell_type": "code",
   "execution_count": 15,
   "id": "5a80f96b",
   "metadata": {},
   "outputs": [
    {
     "name": "stdout",
     "output_type": "stream",
     "text": [
      "Epoch 1/30 - Loss: 0.0731\n",
      "Epoch 2/30 - Loss: 0.0397\n",
      "Epoch 3/30 - Loss: 0.0327\n",
      "Epoch 4/30 - Loss: 0.0296\n",
      "Epoch 5/30 - Loss: 0.0279\n",
      "Epoch 6/30 - Loss: 0.0268\n",
      "Epoch 7/30 - Loss: 0.0257\n",
      "Epoch 8/30 - Loss: 0.0248\n",
      "Epoch 9/30 - Loss: 0.0242\n",
      "Epoch 10/30 - Loss: 0.0235\n",
      "Epoch 11/30 - Loss: 0.0230\n",
      "Epoch 12/30 - Loss: 0.0226\n",
      "Epoch 13/30 - Loss: 0.0219\n",
      "Epoch 14/30 - Loss: 0.0215\n",
      "Epoch 15/30 - Loss: 0.0211\n",
      "Epoch 16/30 - Loss: 0.0209\n",
      "Epoch 17/30 - Loss: 0.0205\n",
      "Epoch 18/30 - Loss: 0.0203\n",
      "Epoch 19/30 - Loss: 0.0202\n",
      "Epoch 20/30 - Loss: 0.0199\n",
      "Epoch 21/30 - Loss: 0.0198\n",
      "Epoch 22/30 - Loss: 0.0196\n",
      "Epoch 23/30 - Loss: 0.0194\n",
      "Epoch 24/30 - Loss: 0.0193\n",
      "Epoch 25/30 - Loss: 0.0192\n",
      "Epoch 26/30 - Loss: 0.0191\n",
      "Epoch 27/30 - Loss: 0.0190\n",
      "Epoch 28/30 - Loss: 0.0189\n",
      "Epoch 29/30 - Loss: 0.0188\n",
      "Epoch 30/30 - Loss: 0.0188\n"
     ]
    }
   ],
   "source": [
    "# allenamento AE\n",
    "model.train()\n",
    "for epoch in range(epochs):\n",
    "    epoch_loss = 0\n",
    "    for x_batch, _ in train_loader_ae:\n",
    "        x_batch = x_batch.to(device)\n",
    "        optimizer.zero_grad()\n",
    "        x_recon = model(x_batch)\n",
    "        loss = criterion(x_recon, x_batch)\n",
    "        loss.backward()\n",
    "        optimizer.step()\n",
    "        epoch_loss += loss.item()\n",
    "    print(f\"Epoch {epoch+1}/{epochs} - Loss: {epoch_loss / len(train_loader_ae):.4f}\")"
   ]
  },
  {
   "cell_type": "code",
   "execution_count": 19,
   "id": "a9b0e9ae",
   "metadata": {},
   "outputs": [
    {
     "name": "stderr",
     "output_type": "stream",
     "text": [
      "Encoding: 100%|██████████| 83/83 [00:30<00:00,  2.69it/s]\n",
      "Encoding: 100%|██████████| 18/18 [00:06<00:00,  2.66it/s]\n",
      "Encoding: 100%|██████████| 18/18 [00:09<00:00,  1.98it/s]\n"
     ]
    }
   ],
   "source": [
    "# estrazione codifiche\n",
    "def encode_dataset_in_batches(data, batch_size=128):\n",
    "    model.eval()\n",
    "    all_encodings = []\n",
    "\n",
    "    with torch.no_grad():\n",
    "        for i in tqdm(range(0, len(data), batch_size), desc=\"Encoding\"):\n",
    "            batch = data[i:i + batch_size]\n",
    "            batch_tensor = torch.tensor(batch, dtype=torch.float32).view(-1, 3, 224, 224).to(device)\n",
    "            encoded = model.encode_only(batch_tensor).cpu()\n",
    "            all_encodings.append(encoded)\n",
    "\n",
    "    return torch.cat(all_encodings, dim=0).numpy()\n",
    "\n",
    "train_encoded = encode_dataset_in_batches(train_data, batch_size=128)\n",
    "val_encoded = encode_dataset_in_batches(val_data, batch_size=128)\n",
    "test_encoded = encode_dataset_in_batches(test_data, batch_size=128)"
   ]
  },
  {
   "cell_type": "code",
   "execution_count": 21,
   "id": "c7f3cf0e",
   "metadata": {},
   "outputs": [
    {
     "name": "stdout",
     "output_type": "stream",
     "text": [
      "Dati AE salvati in: c:\\Users\\noemi\\Documents\\GitHub\\PCA_AE_histology\\ae_outputs\\ae_data_256_0.05.pth\n",
      "Encoder AE salvato in: c:\\Users\\noemi\\Documents\\GitHub\\PCA_AE_histology\\ae_outputs\\ae_encoder_CNN_256_0.05.pt\n"
     ]
    }
   ],
   "source": [
    "# salvataggio risultati\n",
    "torch.save({\n",
    "    'train_data': train_encoded,\n",
    "    'val_data': val_encoded,\n",
    "    'test_data': test_encoded,\n",
    "    'train_labels': train_labels,\n",
    "    'val_labels': val_labels,\n",
    "    'test_labels': test_labels,\n",
    "    'class_names': pretty_labels\n",
    "}, save_path)\n",
    "\n",
    "torch.save({\n",
    "    'encoder_conv': model.encoder_conv.state_dict(),\n",
    "    'fc_enc': model.fc_enc.state_dict()\n",
    "}, encoder_model_path)\n",
    "\n",
    "print(f\"Dati AE salvati in: {save_path}\")\n",
    "print(f\"Encoder AE salvato in: {encoder_model_path}\")"
   ]
  }
 ],
 "metadata": {
  "kernelspec": {
   "display_name": "base",
   "language": "python",
   "name": "python3"
  },
  "language_info": {
   "codemirror_mode": {
    "name": "ipython",
    "version": 3
   },
   "file_extension": ".py",
   "mimetype": "text/x-python",
   "name": "python",
   "nbconvert_exporter": "python",
   "pygments_lexer": "ipython3",
   "version": "3.12.7"
  }
 },
 "nbformat": 4,
 "nbformat_minor": 5
}
