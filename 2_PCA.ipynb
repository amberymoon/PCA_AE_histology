{
 "cells": [
  {
   "cell_type": "code",
   "execution_count": 1,
   "id": "0da72016",
   "metadata": {},
   "outputs": [],
   "source": [
    "# librerie utili\n",
    "import os\n",
    "import torch\n",
    "import numpy as np\n",
    "from torchvision import transforms, datasets\n",
    "from torch.utils.data import DataLoader, random_split, Subset\n",
    "from sklearn.decomposition import PCA\n",
    "import matplotlib.pyplot as plt\n",
    "import random\n",
    "import collections\n",
    "from tqdm import tqdm\n",
    "import joblib \n",
    "from data_augmentation import build_balanced_augmented_tensor_dataset"
   ]
  },
  {
   "cell_type": "code",
   "execution_count": 2,
   "id": "ff459232",
   "metadata": {},
   "outputs": [
    {
     "data": {
      "text/plain": [
       "<torch._C.Generator at 0x25cd7386450>"
      ]
     },
     "execution_count": 2,
     "metadata": {},
     "output_type": "execute_result"
    }
   ],
   "source": [
    "# riproducibilità\n",
    "random.seed(42)\n",
    "np.random.seed(42)\n",
    "torch.manual_seed(42)"
   ]
  },
  {
   "cell_type": "code",
   "execution_count": null,
   "id": "be55798c",
   "metadata": {},
   "outputs": [],
   "source": [
    "# configurazione\n",
    "image_size = 224 # dimensione a cui ridimensionare ogni immagine\n",
    "batch_size = 32  # batch size per i DataLoader\n",
    "n_components = 2342 # componenti principali che spiegano l 95% della soglia\n",
    "noise_std = 0.05\n",
    "# valori diversi di noise_std provati [0.0, 0.01, 0.05, 0.1, 0.2, 0.3]\n",
    "train_ratio, val_ratio = 0.7, 0.15  # percentuali per suddividere in train/val/test\n",
    "\n",
    "pretty_labels = ['adenocarcinoma', 'beigno', 'carcinoma squamoso']  # nome delle classi più leggibili"
   ]
  },
  {
   "cell_type": "code",
   "execution_count": null,
   "id": "ba143910",
   "metadata": {},
   "outputs": [],
   "source": [
    "# percorsi utili\n",
    "base_dir = os.getcwd()  # percorso base\n",
    "data_dir = os.path.join(base_dir, 'data_histo') # percorso dataset\n",
    "# percorso per salvare output\n",
    "output_folder = os.path.join(base_dir, \"pca_outputs\")\n",
    "os.makedirs(output_folder, exist_ok=True) # crea se non esiste\n",
    "save_path = os.path.join(output_folder, f'pca_data_{n_components}_{noise_std}.pth')\n",
    "pca_model_path = os.path.join(output_folder, f'pca_model_{n_components}_{noise_std}.pkl') "
   ]
  },
  {
   "cell_type": "code",
   "execution_count": null,
   "id": "e5e87b30",
   "metadata": {},
   "outputs": [],
   "source": [
    "# trasformazioni base (usate per val/test)\n",
    "transform_base = transforms.Compose([\n",
    "    transforms.Resize((image_size, image_size)), # ridimensiona le immagini\n",
    "    transforms.ToTensor() # converte in tensore\n",
    "])"
   ]
  },
  {
   "cell_type": "code",
   "execution_count": null,
   "id": "be9a1176",
   "metadata": {},
   "outputs": [],
   "source": [
    "# caricamento e split\n",
    "full_dataset = datasets.ImageFolder(root=data_dir, transform=transform_base)  # carica tutte le immagini con le etichette\n",
    "total_size = len(full_dataset)                                           # numero totale di immagini\n",
    "train_size = int(train_ratio * total_size)\n",
    "val_size = int(val_ratio * total_size)\n",
    "test_size = total_size - train_size - val_size                           # il resto va al test set\n",
    "\n",
    "# suddivisione casuale ma riproducibile\n",
    "train_indices, val_indices, test_indices = random_split(\n",
    "    list(range(total_size)), [train_size, val_size, test_size],\n",
    "    generator=torch.Generator().manual_seed(42)\n",
    ")"
   ]
  },
  {
   "cell_type": "code",
   "execution_count": 7,
   "id": "d6cfbcf8",
   "metadata": {},
   "outputs": [],
   "source": [
    "train_subset = Subset(full_dataset, train_indices)\n",
    "val_subset = Subset(full_dataset, val_indices)\n",
    "test_subset = Subset(full_dataset, test_indices)\n",
    "\n",
    "val_loader = DataLoader(val_subset, batch_size=batch_size, shuffle=False)\n",
    "test_loader = DataLoader(test_subset, batch_size=batch_size, shuffle=False)"
   ]
  },
  {
   "cell_type": "code",
   "execution_count": null,
   "id": "57906474",
   "metadata": {},
   "outputs": [
    {
     "name": "stdout",
     "output_type": "stream",
     "text": [
      "Applico data augmentation al training set...\n"
     ]
    }
   ],
   "source": [
    "# caricamento dati augmentati (vedi file augmented_data.ipynb)\n",
    "aug_data = torch.load(os.path.join(\"shared_augmented_data\", f\"augmented_train_data_{noise_std}.pt\"))\n",
    "train_imgs = aug_data['images']\n",
    "train_labels = aug_data['labels']\n",
    "\n",
    "# flatten immagini in vettori 1D\n",
    "train_data = train_imgs.view(train_imgs.size(0), -1).numpy()"
   ]
  },
  {
   "cell_type": "code",
   "execution_count": 9,
   "id": "a36515a3",
   "metadata": {},
   "outputs": [
    {
     "name": "stderr",
     "output_type": "stream",
     "text": [
      "Estrazione dati: 100%|██████████| 71/71 [00:24<00:00,  2.90it/s]\n",
      "Estrazione dati: 100%|██████████| 71/71 [00:24<00:00,  2.93it/s]\n"
     ]
    }
   ],
   "source": [
    "# estrazione e flattening di val e test\n",
    "def extract_data(loader):\n",
    "    data, labels = [], []\n",
    "    for images, targets in tqdm(loader, desc=\"Estrazione dati\"):\n",
    "        flat = images.view(images.size(0), -1)\n",
    "        data.append(flat)\n",
    "        labels.append(targets)\n",
    "    data = torch.cat(data, dim=0).numpy()\n",
    "    labels = torch.cat(labels).numpy()\n",
    "    return data, labels\n",
    "\n",
    "val_data, val_labels = extract_data(val_loader)\n",
    "test_data, test_labels = extract_data(test_loader)"
   ]
  },
  {
   "cell_type": "code",
   "execution_count": null,
   "id": "3931f2ad",
   "metadata": {},
   "outputs": [],
   "source": [
    "# normalizzazione (Z-SCORE)\n",
    "# la normalizzazione viene effettuata utilizzando la media e la deviazione standard \n",
    "# calcolate solo sul set di training. Questo è fondamentale per evitare data leakage: \n",
    "# usare informazioni statistiche dai dati di validazione o test potrebbe introdurre bias\n",
    "# e compromettere la validità della valutazione del modello.\n",
    "mean = train_data.mean(axis=0)\n",
    "std = train_data.std(axis=0) + 1e-8  # evita divisione per zero\n",
    "\n",
    "def zscore(data):\n",
    "    return (data - mean) / std\n",
    "\n",
    "train_data = zscore(train_data)\n",
    "val_data = zscore(val_data)\n",
    "test_data = zscore(test_data)"
   ]
  },
  {
   "cell_type": "code",
   "execution_count": null,
   "id": "215856ce",
   "metadata": {},
   "outputs": [],
   "source": [
    "# PCA\n",
    "pca = PCA(n_components=n_components)\n",
    "train_pca = pca.fit_transform(train_data) # fit su train\n",
    "val_pca = pca.transform(val_data)          # transform su val\n",
    "test_pca = pca.transform(test_data)        # transform su test"
   ]
  },
  {
   "cell_type": "code",
   "execution_count": null,
   "id": "4370ab1b",
   "metadata": {},
   "outputs": [
    {
     "name": "stdout",
     "output_type": "stream",
     "text": [
      "Dati PCA salvati in: c:\\Users\\giken\\Documents\\Noemi\\DAML-project\\pca_outputs\\pca_data_2342_0.05.pth\n",
      "Modello PCA salvato in: c:\\Users\\giken\\Documents\\Noemi\\DAML-project\\pca_outputs\\pca_model_2342_0.05.pkl\n"
     ]
    },
    {
     "data": {
      "image/png": "[encoded data removed]",
      "text/plain": [
       "<Figure size 640x480 with 1 Axes>"
      ]
     },
     "metadata": {},
     "output_type": "display_data"
    },
    {
     "name": "stdout",
     "output_type": "stream",
     "text": [
      "Numero totale campioni train: 10638\n"
     ]
    }
   ],
   "source": [
    "# salvataggio\n",
    "torch.save({\n",
    "    'train_data': train_pca,\n",
    "    'val_data': val_pca,\n",
    "    'test_data': test_pca,\n",
    "    'train_labels': train_labels,\n",
    "    'val_labels': val_labels,\n",
    "    'test_labels': test_labels,\n",
    "    'class_names': pretty_labels\n",
    "}, save_path)\n",
    "\n",
    "# salvataggio PCA model (per ricostruzione immagini eventualmente)\n",
    "joblib.dump(pca, pca_model_path)  # <--- NEW\n",
    "print(f\"Dati PCA salvati in: {save_path}\")\n",
    "print(f\"Modello PCA salvato in: {pca_model_path}\")"
   ]
  }
 ],
 "metadata": {
  "kernelspec": {
   "display_name": "base",
   "language": "python",
   "name": "python3"
  },
  "language_info": {
   "codemirror_mode": {
    "name": "ipython",
    "version": 3
   },
   "file_extension": ".py",
   "mimetype": "text/x-python",
   "name": "python",
   "nbconvert_exporter": "python",
   "pygments_lexer": "ipython3",
   "version": "3.12.7"
  }
 },
 "nbformat": 4,
 "nbformat_minor": 5
}
