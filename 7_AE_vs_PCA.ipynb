{
 "cells": [
  {
   "cell_type": "code",
   "execution_count": null,
   "id": "59ef1b8c",
   "metadata": {},
   "outputs": [],
   "source": [
    "# librerie\n",
    "import os\n",
    "import pandas as pd\n",
    "import matplotlib.pyplot as plt\n",
    "import numpy as np\n",
    "import seaborn as sns"
   ]
  },
  {
   "cell_type": "code",
   "execution_count": null,
   "id": "2cdbce6b",
   "metadata": {},
   "outputs": [],
   "source": [
    "# configurazione\n",
    "encoding_dim = 256 # dimensioni encoder\n",
    "noise_std = 0.05\n",
    "n_components = 2342 # componenti principali per soglia 95%"
   ]
  },
  {
   "cell_type": "code",
   "execution_count": null,
   "id": "9f8f2c42",
   "metadata": {},
   "outputs": [],
   "source": [
    "# percorsi utili\n",
    "base_dir = os.getcwd()  # percorso base\n",
    "# percorso per salvare output\n",
    "outputs = os.path.join(base_dir, \"outputs\")\n",
    "output_ae = os.path.join(base_dir, \"ae_outputs\")\n",
    "output_pca = os.path.join(base_dir, \"pca_outputs\")\n",
    "save_ae_fc = os.path.join(output_ae, f'ae_data_FC_{encoding_dim}_{noise_std}.pth')\n",
    "save_pca = os.path.join(output_pca, f'pca_data_{n_components}_{noise_std}.pth')\n",
    "save_ae_cnn = os.path.join(output_ae, f'ae_data_CNN_{encoding_dim}_{noise_std}.pth')"
   ]
  },
  {
   "cell_type": "code",
   "execution_count": null,
   "id": "e3ba74ee",
   "metadata": {},
   "outputs": [],
   "source": [
    "# caricamento risultati\n",
    "ae_df = pd.read_csv(save_ae_fc)\n",
    "ae_df['method'] = 'Autoencoder'\n",
    "\n",
    "# ae_df = pd.read_csv(save_ae_cnn)\n",
    "# ae_df['method'] = 'Autoencoder'\n",
    "\n",
    "pca_df = pd.read_csv(save_pca)\n",
    "pca_df['method'] = 'PCA'"
   ]
  },
  {
   "cell_type": "code",
   "execution_count": null,
   "id": "21652efa",
   "metadata": {},
   "outputs": [],
   "source": [
    "# unione dei dataframe\n",
    "df = pd.concat([ae_df, pca_df], ignore_index=True)"
   ]
  },
  {
   "cell_type": "code",
   "execution_count": null,
   "id": "997da5d0",
   "metadata": {},
   "outputs": [],
   "source": [
    "# plot comparativo\n",
    "metrics = ['accuracy', 'precision', 'recall', 'f1_score', 'specificity']\n",
    "colors = {\n",
    "    'Autoencoder': '#3498DB',  # blu\n",
    "    'PCA': '#F39C12'           # arancio\n",
    "}\n",
    "\n",
    "for metric in metrics:\n",
    "    plt.figure(figsize=(14, 6))\n",
    "    sns.barplot(data=df, x='config_id', y=metric, hue='method', palette=colors)\n",
    "    plt.title(f'Confronto {metric.upper()} per Configurazione')\n",
    "    plt.xlabel(\"Configurazione Rete\")\n",
    "    plt.ylabel(metric.capitalize())\n",
    "    plt.ylim(0.5, 1.0)\n",
    "    plt.legend(title='Metodo')\n",
    "    plt.grid(axis='y', linestyle='--', alpha=0.5)\n",
    "    plt.tight_layout()\n",
    "    plt.savefig(os.path.join(outputs, f'AE_vs_PCA_{metric}.png'))\n",
    "    plt.close()"
   ]
  }
 ],
 "metadata": {
  "language_info": {
   "name": "python"
  }
 },
 "nbformat": 4,
 "nbformat_minor": 5
}
